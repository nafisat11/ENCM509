{
 "cells": [
  {
   "cell_type": "markdown",
   "metadata": {},
   "source": [
    "![UofC header](header.png)"
   ]
  },
  {
   "cell_type": "markdown",
   "metadata": {},
   "source": [
    "# Markdown by Example"
   ]
  },
  {
   "cell_type": "markdown",
   "metadata": {},
   "source": [
    "> double clik in the respective cell to see the code behind it!"
   ]
  },
  {
   "cell_type": "markdown",
   "metadata": {},
   "source": [
    "## Headers"
   ]
  },
  {
   "cell_type": "markdown",
   "metadata": {},
   "source": [
    "# Heading 1\n",
    "\n",
    "## Heading 2\n",
    "\n",
    "### Heading 3\n",
    "\n",
    "#### Heading 4\n",
    "\n",
    "##### Heading 5"
   ]
  },
  {
   "cell_type": "markdown",
   "metadata": {},
   "source": [
    "---"
   ]
  },
  {
   "cell_type": "markdown",
   "metadata": {},
   "source": [
    "## Quote"
   ]
  },
  {
   "cell_type": "markdown",
   "metadata": {},
   "source": [
    "> This is a quote"
   ]
  },
  {
   "cell_type": "markdown",
   "metadata": {},
   "source": [
    "---"
   ]
  },
  {
   "cell_type": "markdown",
   "metadata": {},
   "source": [
    "## Code"
   ]
  },
  {
   "cell_type": "markdown",
   "metadata": {},
   "source": [
    "Python code:\n",
    "```Python\n",
    "def f(x):\n",
    "    return x**2\n",
    "```\n",
    "\n",
    "C-code:\n",
    "```C\n",
    "for (i=0; i<n; i++) {\n",
    "  printf(\"hello %d\\n\", i);\n",
    "  x += 4;\n",
    "}\n",
    "```"
   ]
  },
  {
   "cell_type": "markdown",
   "metadata": {},
   "source": [
    "---"
   ]
  },
  {
   "cell_type": "markdown",
   "metadata": {},
   "source": [
    "# Text formating"
   ]
  },
  {
   "cell_type": "markdown",
   "metadata": {},
   "source": [
    "Italic: *italic text* or _italic text_ ;\n",
    "\n",
    "Bold: **bold text** or __bold text__;"
   ]
  },
  {
   "cell_type": "markdown",
   "metadata": {},
   "source": [
    "---"
   ]
  },
  {
   "cell_type": "markdown",
   "metadata": {},
   "source": [
    "## Lists"
   ]
  },
  {
   "cell_type": "markdown",
   "metadata": {},
   "source": [
    "Unordered (bulleted):\n",
    "* first item\n",
    "* second item\n",
    "* third item\n",
    "\n",
    "\n",
    "Ordered:\n",
    "1. first item\n",
    "2. second item\n",
    "3. third item\n",
    "\n",
    "Nested lists:\n",
    "* first item:\n",
    "    * sub-first item\n",
    "    * sub-first item again\n",
    "* second item:\n",
    "    1. sub-second item\n",
    "    * sub-second item (without number!)\n",
    "    * sub-second item (you just need to put the first number)"
   ]
  },
  {
   "cell_type": "markdown",
   "metadata": {},
   "source": [
    "---"
   ]
  },
  {
   "cell_type": "markdown",
   "metadata": {},
   "source": [
    "## Image"
   ]
  },
  {
   "cell_type": "markdown",
   "metadata": {},
   "source": [
    "![UofC Dino](dino.png)"
   ]
  },
  {
   "cell_type": "markdown",
   "metadata": {},
   "source": [
    "---"
   ]
  },
  {
   "cell_type": "markdown",
   "metadata": {},
   "source": [
    "## Equation"
   ]
  },
  {
   "cell_type": "markdown",
   "metadata": {},
   "source": [
    "$$e^x=\\sum_{i=0}^\\infty \\frac{1}{i!}x^i$$"
   ]
  },
  {
   "cell_type": "markdown",
   "metadata": {},
   "source": [
    "---"
   ]
  },
  {
   "cell_type": "markdown",
   "metadata": {},
   "source": [
    "## Table"
   ]
  },
  {
   "cell_type": "markdown",
   "metadata": {},
   "source": [
    "| Header 1   |      Header 2      |  Header 3 |\n",
    "|----------|:-------------|------:|\n",
    "| center |  left-aligned | right-aligned |\n",
    "| center |  left-aligned | right-aligned |\n",
    "| center |  left-aligned | right-aligned |\n",
    "| center |  left-aligned | right-aligned |\n"
   ]
  },
  {
   "cell_type": "markdown",
   "metadata": {},
   "source": [
    "---\n",
    "\n",
    "*list by Helder C. R. Oliveira - Jan 07, 2020 - University of Calgary*"
   ]
  }
 ],
 "metadata": {
  "kernelspec": {
   "display_name": "Python 3",
   "language": "python",
   "name": "python3"
  },
  "language_info": {
   "codemirror_mode": {
    "name": "ipython",
    "version": 3
   },
   "file_extension": ".py",
   "mimetype": "text/x-python",
   "name": "python",
   "nbconvert_exporter": "python",
   "pygments_lexer": "ipython3",
   "version": "3.7.6"
  }
 },
 "nbformat": 4,
 "nbformat_minor": 2
}
